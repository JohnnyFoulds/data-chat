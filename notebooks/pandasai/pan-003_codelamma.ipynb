{
 "cells": [
  {
   "cell_type": "markdown",
   "metadata": {},
   "source": [
    "# PAN-003 : CodeLlama\n",
    "\n",
    "Using a `LangChain model` with `codellama/CodeLlama-7b-Python-hf`.\n",
    "\n",
    "- [PandasAI](https://docs.pandas-ai.com/en/latest/)\n",
    "- https://huggingface.co/spaces/YashB1/VayuBuddy"
   ]
  },
  {
   "cell_type": "code",
   "execution_count": null,
   "metadata": {
    "metadata": {}
   },
   "outputs": [],
   "source": [
    "import pandas as pd\n",
    "from langchain_community.llms.huggingface_pipeline import HuggingFacePipeline\n",
    "import pandasai as pai\n",
    "from pandasai import SmartDataframe \n"
   ]
  },
  {
   "cell_type": "markdown",
   "metadata": {},
   "source": [
    "- TheBloke/Mistral-7B-Instruct-v0.2-GGUF\n",
    "- TheBloke/Mistral-7B-Instruct-v0.2-AWQ\n",
    "- TheBloke/CodeLlama-7B-Python-AWQ\n",
    "- TheBloke/CodeLlama-13B-Python-AWQ\n",
    "- TheBloke/CodeLlama-7B-Instruct-GPTQ\n"
   ]
  },
  {
   "cell_type": "code",
   "execution_count": null,
   "metadata": {
    "metadata": {}
   },
   "outputs": [],
   "source": [
    "llm = HuggingFacePipeline.from_model_id(\n",
    "    model_id=\"TheBloke/CodeLlama-7B-Instruct-GPTQ\",\n",
    "    task=\"text-generation\",\n",
    "    pipeline_kwargs={\"max_new_tokens\": 512},\n",
    "    device=0,\n",
    ")"
   ]
  },
  {
   "cell_type": "code",
   "execution_count": null,
   "metadata": {
    "metadata": {}
   },
   "outputs": [],
   "source": [
    "# Sample DataFrame\n",
    "sales_by_country = pd.DataFrame({\n",
    "    \"country\": [\"United States\", \"United Kingdom\", \"France\", \"Germany\", \"Italy\", \"Spain\", \"Canada\", \"Australia\", \"Japan\", \"China\"],\n",
    "    \"sales\": [5000, 3200, 2900, 4100, 2300, 2100, 2500, 2600, 4500, 7000]\n",
    "})\n",
    "\n",
    "# convert to SmartDataframe\n",
    "sdf = SmartDataframe(sales_by_country, config={\"llm\": llm})"
   ]
  },
  {
   "cell_type": "code",
   "execution_count": null,
   "metadata": {
    "metadata": {}
   },
   "outputs": [],
   "source": [
    "sales_by_country.sort_values(by='sales', ascending=False)"
   ]
  },
  {
   "cell_type": "code",
   "execution_count": null,
   "metadata": {
    "metadata": {}
   },
   "outputs": [],
   "source": [
    "pai.clear_cache()\n",
    "response = sdf.chat('Which are the top 5 countries by sales?')\n",
    "print(response)"
   ]
  },
  {
   "cell_type": "code",
   "execution_count": null,
   "metadata": {
    "metadata": {}
   },
   "outputs": [],
   "source": [
    "pai.clear_cache()\n",
    "response = sdf.chat('Which country has the fewest sales?')\n",
    "print(response)"
   ]
  },
  {
   "cell_type": "code",
   "execution_count": null,
   "metadata": {},
   "outputs": [],
   "source": [
    "dfs = [sales_by_country]"
   ]
  },
  {
   "cell_type": "code",
   "execution_count": null,
   "metadata": {},
   "outputs": [],
   "source": [
    "# Import required dependencies\n",
    "import pandas as pd\n",
    "import matplotlib.pyplot as plt\n",
    "\n",
    "# Update code\n",
    "dfs = [dfs[0]]  # Ensure dfs is a list with one DataFrame\n",
    "\n",
    "# Calculate top 5 countries by sales\n",
    "top_5_countries = dfs[0].nlargest(5,'sales')\n",
    "\n",
    "# Declare result variable\n",
    "result = {\n",
    "    \"type\": \"dataframe\",\n",
    "    \"value\": top_5_countries\n",
    "}\n",
    "\n",
    "# Plotting the top 5 countries sales chart\n",
    "plt.figure(figsize=(10,6))\n",
    "top_5_countries.plot(kind='bar', x='country', y='sales')\n",
    "plt.title('Top 5 Countries by Sales')\n",
    "plt.xlabel('Country')\n",
    "plt.ylabel('Sales')\n",
    "plt.savefig('top_5_sales.png')\n",
    "plt.close()\n",
    "plt.show()"
   ]
  },
  {
   "cell_type": "code",
   "execution_count": null,
   "metadata": {},
   "outputs": [],
   "source": [
    "result"
   ]
  },
  {
   "cell_type": "code",
   "execution_count": null,
   "metadata": {},
   "outputs": [],
   "source": [
    "# Import required dependencies\n",
    "import pandas as pd\n",
    "\n",
    "# Update code\n",
    "lowest_sales = dfs[0].loc[dfs[0].index[dfs[0]['sales'].idxmin()]]['country']\n",
    "\n",
    "# Declare result var\n",
    "result = {\n",
    "    \"type\": \"string\",\n",
    "    \"value\": f\"The country with the fewest sales is {lowest_sales}\"\n",
    "}"
   ]
  },
  {
   "cell_type": "code",
   "execution_count": null,
   "metadata": {},
   "outputs": [],
   "source": [
    "result"
   ]
  }
 ],
 "metadata": {
  "kernelspec": {
   "display_name": "data-chat",
   "language": "python",
   "name": "python3"
  },
  "language_info": {
   "codemirror_mode": {
    "name": "ipython",
    "version": 3
   },
   "file_extension": ".py",
   "mimetype": "text/x-python",
   "name": "python",
   "nbconvert_exporter": "python",
   "pygments_lexer": "ipython3",
   "version": "3.10.14"
  }
 },
 "nbformat": 4,
 "nbformat_minor": 2
}
